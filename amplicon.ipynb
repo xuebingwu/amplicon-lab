{
  "cells": [
    {
      "cell_type": "markdown",
      "metadata": {
        "id": "view-in-github",
        "colab_type": "text"
      },
      "source": [
        "<a href=\"https://colab.research.google.com/github/xuebingwu/amplicon-mutation-analysis/blob/main/amplicon.ipynb\" target=\"_parent\"><img src=\"https://colab.research.google.com/assets/colab-badge.svg\" alt=\"Open In Colab\"/></a>"
      ]
    },
    {
      "cell_type": "markdown",
      "metadata": {
        "id": "HBC_J9pHSp1p"
      },
      "source": [
        "\n",
        "# <font color='MediumSlateBlue '> **Amplicon mutation analysis**  </font> \n",
        "## A Colab notebook for analyzing amplicon sequencing data\n",
        "---\n",
        "[Xuebing Wu lab @ Columbia](https://xuebingwu.github.io/)     |     [GitHub repository](https://github.com/xuebingwu/amplicon-mutation-analysis) \n"
      ]
    },
    {
      "cell_type": "code",
      "execution_count": null,
      "metadata": {
        "id": "D6znA5iqZu1b",
        "cellView": "form"
      },
      "outputs": [],
      "source": [
        "#@title Click `Runtime` -> `Run all` to upload a gzipped fastq file\n",
        "\n",
        "#@markdown - Input: a gzipped fastq file. All reads from a single PCR product\n",
        "\n",
        "\n",
        "import os\n",
        "from google.colab import files\n",
        "\n",
        "uploaded = files.upload()\n",
        "\n",
        "!git clone https://github.com/xuebingwu/amplicon-mutation-analysis.git\n",
        "\n",
        "inputfile=list(uploaded.keys())[0]\n",
        "\n",
        "os.rename(inputfile,\"input.fq.gz\")\n",
        "\n",
        "!python amplicon-mutation-analysis/amplicon-mutation-analysis.py input.fq.gz sample\n",
        "\n",
        "# download the file\n",
        "files.download(f\"sample.pdf\")\n"
      ]
    },
    {
      "cell_type": "markdown",
      "metadata": {
        "id": "Cz3dcAlurVqE"
      },
      "source": [
        "# About <a name=\"Instructions\"></a>\n",
        "\n",
        "**Applications**\n",
        "* Analyze mutational patterns in amplicon sequencing data in which substitutions rather than indels are the predominant type of mutations.\n",
        "* Example: DMS/SHAPE RNA structure probing, Error-prone PCR mutagenesis, etc.\n",
        "\n",
        "**Limitations**\n",
        "* A gmail account is required to run Google Colab notebooks.\n",
        "* This notebook was designed for analyzing a single PCR product, such as DMS amplicon. \n",
        "* Your browser can block the pop-up for downloading the result file. You can choose the `save_to_google_drive` option to upload to Google Drive instead or manually download the result file: Click on the little folder icon to the left, navigate to file: `sample.pdf`, right-click and select \\\"Download\\\".\n",
        "\n",
        "\n",
        "**Bugs**\n",
        "- If you encounter any bugs, please report the issue by emailing Xuebing Wu (xw2629 at cumc dot columbia dot edu)\n",
        "\n",
        "**License**\n",
        "\n",
        "* The source code of this notebook is licensed under [MIT](https://raw.githubusercontent.com/sokrypton/ColabFold/main/LICENSE).\n",
        "\n",
        "\n"
      ]
    }
  ],
  "metadata": {
    "colab": {
      "provenance": [],
      "include_colab_link": true
    },
    "gpuClass": "standard",
    "kernelspec": {
      "display_name": "Python 3",
      "language": "python",
      "name": "python3"
    },
    "language_info": {
      "codemirror_mode": {
        "name": "ipython",
        "version": 3
      },
      "file_extension": ".py",
      "mimetype": "text/x-python",
      "name": "python",
      "nbconvert_exporter": "python",
      "pygments_lexer": "ipython3",
      "version": "3.8.10"
    }
  },
  "nbformat": 4,
  "nbformat_minor": 0
}
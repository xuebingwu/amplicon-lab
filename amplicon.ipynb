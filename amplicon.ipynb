{
  "cells": [
    {
      "cell_type": "markdown",
      "metadata": {
        "id": "view-in-github",
        "colab_type": "text"
      },
      "source": [
        "<a href=\"https://colab.research.google.com/github/xuebingwu/amplicon-mutation-analysis/blob/main/amplicon.ipynb\" target=\"_parent\"><img src=\"https://colab.research.google.com/assets/colab-badge.svg\" alt=\"Open In Colab\"/></a>"
      ]
    },
    {
      "cell_type": "markdown",
      "metadata": {
        "id": "HBC_J9pHSp1p"
      },
      "source": [
        "\n",
        "# <font color='MediumSlateBlue '> **Amplicon sequencing data analysis**  </font> \n",
        "## A Colab notebook for analyzing amplicon sequencing data\n",
        "---\n",
        "[Xuebing Wu lab @ Columbia](https://xuebingwu.github.io/)     |     [GitHub repository](https://github.com/xuebingwu/amplicon-mutation-analysis) \n"
      ]
    },
    {
      "cell_type": "code",
      "execution_count": 1,
      "metadata": {
        "id": "D6znA5iqZu1b",
        "cellView": "form",
        "outputId": "cbbbbdc5-7cd1-4a17-e0b5-9d46e04ae1c6",
        "colab": {
          "base_uri": "https://localhost:8080/",
          "height": 565
        }
      },
      "outputs": [
        {
          "output_type": "stream",
          "name": "stdout",
          "text": [
            "Cloning into 'amplicon-mutation-analysis'...\n",
            "remote: Enumerating objects: 15, done.\u001b[K\n",
            "remote: Counting objects: 100% (15/15), done.\u001b[K\n",
            "remote: Compressing objects: 100% (15/15), done.\u001b[K\n",
            "remote: Total 15 (delta 6), reused 0 (delta 0), pack-reused 0\u001b[K\n",
            "Unpacking objects: 100% (15/15), 10.19 KiB | 1.70 MiB/s, done.\n",
            "Traceback (most recent call last):\n",
            "  File \"/content/amplicon-mutation-analysis/amplicon-mutation-analysis.py\", line 53, in <module>\n",
            "    with gzip.open(fastq_gz_file, 'rb') as f:\n",
            "  File \"/usr/lib/python3.10/gzip.py\", line 58, in open\n",
            "    binary_file = GzipFile(filename, gz_mode, compresslevel)\n",
            "  File \"/usr/lib/python3.10/gzip.py\", line 174, in __init__\n",
            "    fileobj = self.myfileobj = builtins.open(filename, mode or 'rb')\n",
            "FileNotFoundError: [Errno 2] No such file or directory: 'input.fq.gz'\n"
          ]
        },
        {
          "output_type": "error",
          "ename": "FileNotFoundError",
          "evalue": "ignored",
          "traceback": [
            "\u001b[0;31m---------------------------------------------------------------------------\u001b[0m",
            "\u001b[0;31mFileNotFoundError\u001b[0m                         Traceback (most recent call last)",
            "\u001b[0;32m<ipython-input-1-7e220c34c9be>\u001b[0m in \u001b[0;36m<cell line: 34>\u001b[0;34m()\u001b[0m\n\u001b[1;32m     32\u001b[0m \u001b[0;34m\u001b[0m\u001b[0m\n\u001b[1;32m     33\u001b[0m \u001b[0;31m# download the file\u001b[0m\u001b[0;34m\u001b[0m\u001b[0;34m\u001b[0m\u001b[0m\n\u001b[0;32m---> 34\u001b[0;31m \u001b[0mfiles\u001b[0m\u001b[0;34m.\u001b[0m\u001b[0mdownload\u001b[0m\u001b[0;34m(\u001b[0m\u001b[0;34mf\"sample.pdf\"\u001b[0m\u001b[0;34m)\u001b[0m\u001b[0;34m\u001b[0m\u001b[0;34m\u001b[0m\u001b[0m\n\u001b[0m",
            "\u001b[0;32m/usr/local/lib/python3.10/dist-packages/google/colab/files.py\u001b[0m in \u001b[0;36mdownload\u001b[0;34m(filename)\u001b[0m\n\u001b[1;32m    220\u001b[0m   \u001b[0;32mif\u001b[0m \u001b[0;32mnot\u001b[0m \u001b[0m_os\u001b[0m\u001b[0;34m.\u001b[0m\u001b[0mpath\u001b[0m\u001b[0;34m.\u001b[0m\u001b[0mexists\u001b[0m\u001b[0;34m(\u001b[0m\u001b[0mfilename\u001b[0m\u001b[0;34m)\u001b[0m\u001b[0;34m:\u001b[0m\u001b[0;34m\u001b[0m\u001b[0;34m\u001b[0m\u001b[0m\n\u001b[1;32m    221\u001b[0m     \u001b[0mmsg\u001b[0m \u001b[0;34m=\u001b[0m \u001b[0;34m'Cannot find file: {}'\u001b[0m\u001b[0;34m.\u001b[0m\u001b[0mformat\u001b[0m\u001b[0;34m(\u001b[0m\u001b[0mfilename\u001b[0m\u001b[0;34m)\u001b[0m\u001b[0;34m\u001b[0m\u001b[0;34m\u001b[0m\u001b[0m\n\u001b[0;32m--> 222\u001b[0;31m     \u001b[0;32mraise\u001b[0m \u001b[0mFileNotFoundError\u001b[0m\u001b[0;34m(\u001b[0m\u001b[0mmsg\u001b[0m\u001b[0;34m)\u001b[0m  \u001b[0;31m# pylint: disable=undefined-variable\u001b[0m\u001b[0;34m\u001b[0m\u001b[0;34m\u001b[0m\u001b[0m\n\u001b[0m\u001b[1;32m    223\u001b[0m \u001b[0;34m\u001b[0m\u001b[0m\n\u001b[1;32m    224\u001b[0m   \u001b[0mcomm_manager\u001b[0m \u001b[0;34m=\u001b[0m \u001b[0m_IPython\u001b[0m\u001b[0;34m.\u001b[0m\u001b[0mget_ipython\u001b[0m\u001b[0;34m(\u001b[0m\u001b[0;34m)\u001b[0m\u001b[0;34m.\u001b[0m\u001b[0mkernel\u001b[0m\u001b[0;34m.\u001b[0m\u001b[0mcomm_manager\u001b[0m\u001b[0;34m\u001b[0m\u001b[0;34m\u001b[0m\u001b[0m\n",
            "\u001b[0;31mFileNotFoundError\u001b[0m: Cannot find file: sample.pdf"
          ]
        }
      ],
      "source": [
        "#@title Start analysis\n",
        "\n",
        "INPUT = \"Sample: Error-prone PCR mutagenesis\" #@param [\"Upload my own data\",\"Sample: 2% DMS treated\", \"Sample: 0% DMS control\", \"Sample: Error-prone PCR mutagenesis\"]\n",
        "\n",
        "#@markdown <font color='MediumSlateBlue '> Input file format  </font>\n",
        "\n",
        "#@markdown - A single gzipped fastq file\n",
        "#@markdown - All reads should be from a single PCR product\n",
        "#@markdown - All reads should be of the same length\n",
        "\n",
        "#@markdown  <font color='MediumSlateBlue '> To start analysis/select an input file, click `Runtime` -> `Run all`  </font>  \n",
        "\n",
        "import os\n",
        "from google.colab import files\n",
        "\n",
        "if INPUT == \"Upload my own data\":\n",
        "  # ask user to upload a file\n",
        "  uploaded = files.upload()\n",
        "  # rename the file input.fq.gz\n",
        "  os.rename(list(uploaded.keys())[0],\"input.fq.gz\")\n",
        "else:\n",
        "  if not os.path.exists(\"amplicon-mutation-analysis\"):\n",
        "    !git clone https://github.com/xuebingwu/amplicon-mutation-analysis.git\n",
        "  if INPUT == \"Sample: Error-prone PCR mutagenesis\":\n",
        "    !ln -s amplicon-mutation-analysis/error-prone-pcr.fastq.gz input.fq.gz\n",
        "  elif INPUT == \"Sample: 2% DMS treated\":\n",
        "    !ln -s amplicon-mutation-analysis/dms-treated.fastq.gz input.fq.gz\n",
        "  else:\n",
        "    !ln -s amplicon-mutation-analysis/dms-control.fastq.gz input.fq.gz\n",
        "\n",
        "!python amplicon-mutation-analysis/amplicon-mutation-analysis.py input.fq.gz sample\n",
        "\n",
        "# download the file\n",
        "files.download(f\"sample.pdf\")\n"
      ]
    },
    {
      "cell_type": "markdown",
      "metadata": {
        "id": "Cz3dcAlurVqE"
      },
      "source": [
        "# About <a name=\"Instructions\"></a>\n",
        "\n",
        "**Applications**\n",
        "* Analyze mutational patterns in amplicon sequencing data in which substitutions rather than indels are the predominant type of mutations.\n",
        "* Example: DMS/SHAPE RNA structure probing, Error-prone PCR mutagenesis, etc.\n",
        "\n",
        "**Input**\n",
        "\n",
        "* A single gzipped fastq file\n",
        "* All reads should be from a single PCR product\n",
        "* All reads should be of the same length\n",
        "\n",
        "**Output**\n",
        "\n",
        "\n",
        "\n",
        "**Limitations**\n",
        "* A gmail account is required to run Google Colab notebooks.\n",
        "* This notebook was designed for analyzing a single PCR product, such as DMS amplicon. \n",
        "* Your browser can block the pop-up for downloading the result file. You can choose the `save_to_google_drive` option to upload to Google Drive instead or manually download the result file: Click on the little folder icon to the left, navigate to file: `sample.pdf`, right-click and select \\\"Download\\\".\n",
        "\n",
        "\n",
        "**Bugs**\n",
        "- If you encounter any bugs, please report the issue by emailing Xuebing Wu (xw2629 at cumc dot columbia dot edu)\n",
        "\n",
        "**License**\n",
        "\n",
        "* The source code of this notebook is licensed under [MIT](https://raw.githubusercontent.com/sokrypton/ColabFold/main/LICENSE).\n",
        "\n",
        "\n"
      ]
    }
  ],
  "metadata": {
    "colab": {
      "provenance": [],
      "include_colab_link": true
    },
    "gpuClass": "standard",
    "kernelspec": {
      "display_name": "Python 3",
      "language": "python",
      "name": "python3"
    },
    "language_info": {
      "codemirror_mode": {
        "name": "ipython",
        "version": 3
      },
      "file_extension": ".py",
      "mimetype": "text/x-python",
      "name": "python",
      "nbconvert_exporter": "python",
      "pygments_lexer": "ipython3",
      "version": "3.8.10"
    }
  },
  "nbformat": 4,
  "nbformat_minor": 0
}